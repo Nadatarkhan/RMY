{
 "cells": [
  {
   "cell_type": "markdown",
   "id": "c3c9463f",
   "metadata": {},
   "source": [
    "# Example: RMY Generation with Extreme Events\n",
    "This notebook demonstrates how to run heatwave and coldspell detection to generate Representative Meteorological Year (RMY) components."
   ]
  },
  {
   "cell_type": "code",
   "execution_count": null,
   "id": "6ca73985",
   "metadata": {},
   "outputs": [],
   "source": [
    "from rmy.heatwaves import process_file_heat\n",
    "from rmy.coldspells import process_file_cold\n",
    "from pathlib import Path"
   ]
  },
  {
   "cell_type": "code",
   "execution_count": null,
   "id": "1a5b1972",
   "metadata": {},
   "outputs": [],
   "source": [
    "# Define input and output folders\n",
    "heat_epw = 'data/sample_heatwave_city.epw'\n",
    "cold_epw = 'data/sample_coldspell_city.epw'\n",
    "output_dir = Path('output')\n",
    "output_dir.mkdir(parents=True, exist_ok=True)"
   ]
  },
  {
   "cell_type": "code",
   "execution_count": null,
   "id": "2a7e22c1",
   "metadata": {},
   "outputs": [],
   "source": [
    "# Run heatwave detection\n",
    "heat_stats, heat_events, heat_peak_stats, heat_peak_events = process_file_heat(heat_epw)"
   ]
  },
  {
   "cell_type": "code",
   "execution_count": null,
   "id": "3822f4c0",
   "metadata": {},
   "outputs": [],
   "source": [
    "# Run coldspell detection\n",
    "cold_stats, cold_events, cold_peak_stats, cold_peak_events = process_file_cold(cold_epw)"
   ]
  },
  {
   "cell_type": "code",
   "execution_count": null,
   "id": "944d2c62",
   "metadata": {},
   "outputs": [],
   "source": [
    "# Save outputs to CSV\n",
    "heat_stats.to_csv(output_dir / 'heatwave_stats.csv', index=False)\n",
    "heat_events.to_csv(output_dir / 'heatwave_events.csv', index=False)\n",
    "cold_stats.to_csv(output_dir / 'coldspell_stats.csv', index=False)\n",
    "cold_events.to_csv(output_dir / 'coldspell_events.csv', index=False)"
   ]
  },
  {
   "cell_type": "markdown",
   "id": "de5218cb",
   "metadata": {},
   "source": [
    "> **Note:** You can extend this by adding logic to build a full RMY using the peak year event data and base TMY file."
   ]
  }
 ],
 "metadata": {},
 "nbformat": 4,
 "nbformat_minor": 5
}