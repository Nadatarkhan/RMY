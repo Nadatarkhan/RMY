{
 "cells": [
  {
   "cell_type": "markdown",
   "id": "931a33d9",
   "metadata": {},
   "source": [
    "# Example Usage: RMY Generation (No Visualization)\n",
    "This notebook demonstrates how to detect heatwaves and cold spells and generate a Representative Meteorological Year (RMY) file."
   ]
  },
  {
   "cell_type": "code",
   "execution_count": null,
   "id": "2822a4e4",
   "metadata": {},
   "outputs": [],
   "source": [
    "# Imports\n",
    "from rmy import coldspells, heatwaves, rmy_generation"
   ]
  },
  {
   "cell_type": "code",
   "execution_count": null,
   "id": "7bf8be88",
   "metadata": {},
   "outputs": [],
   "source": [
    "# Define paths\n",
    "epw_dir = \"EPWs\"         # Folder with your full AMY EPWs\n",
    "base_dir = \"base\"        # Folder with one TMY EPW file\n",
    "output_dir = \"output\"    # Output folder"
   ]
  },
  {
   "cell_type": "code",
   "execution_count": null,
   "id": "ce54bdf4",
   "metadata": {},
   "outputs": [],
   "source": [
    "# Detect Cold Spells\n",
    "cold_stats, cold_events, cold_peak_stats, cold_peak_events = coldspells.process_file_cold(\n",
    "    epw_path=f\"{base_dir}/your_base_file.epw\",\n",
    "    methods=[\"ensemble\", \"gnn\", \"evt\"]\n",
    ")"
   ]
  },
  {
   "cell_type": "code",
   "execution_count": null,
   "id": "01749966",
   "metadata": {},
   "outputs": [],
   "source": [
    "# Detect Heatwaves\n",
    "heat_stats, heat_events, heat_peak_stats, heat_peak_events = heatwaves.process_file_hot(\n",
    "    epw_path=f\"{base_dir}/your_base_file.epw\",\n",
    "    methods=[\"percentile\", \"hybrid\", \"evt\"]\n",
    ")"
   ]
  },
  {
   "cell_type": "code",
   "execution_count": null,
   "id": "6a5f6f3a",
   "metadata": {},
   "outputs": [],
   "source": [
    "# Generate RMY EPW\n",
    "rmy_generation.integrate_events_into_tmy(\n",
    "    base_epw_path=f\"{base_dir}/your_base_file.epw\",\n",
    "    heat_events_df=heat_peak_events,\n",
    "    cold_events_df=cold_peak_events,\n",
    "    output_path=f\"{output_dir}/YourCity_RMY.epw\"\n",
    ")"
   ]
  },
  {
   "cell_type": "code",
   "execution_count": null,
   "id": "5ccc8b04",
   "metadata": {},
   "outputs": [],
   "source": [
    "# Save all outputs\n",
    "coldspells.save_final_outputs_cold_safe(output_dir, cold_stats, cold_events, cold_stats, cold_events, cold_peak_stats, cold_peak_events)\n",
    "heatwaves.save_final_outputs_hot_safe(output_dir, heat_stats, heat_events, heat_stats, heat_events, heat_peak_stats, heat_peak_events)"
   ]
  }
 ],
 "metadata": {},
 "nbformat": 4,
 "nbformat_minor": 5
}
