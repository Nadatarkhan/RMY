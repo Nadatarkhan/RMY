{
  "cells": [
    {
      "cell_type": "markdown",
      "id": "956b8866",
      "metadata": {
        "id": "956b8866"
      },
      "source": [
        "# RMY Generation on Google Colab\n",
        "\n",
        "This notebook demonstrates how to generate a Representative Meteorological Year (RMY) file with embedded extreme climate events (heatwaves and cold spells) using the `rmy` package.\n",
        "\n",
        "### 📁 Folder structure:\n",
        "- `/content/data/EPWs/epws/` → all AMY EPW files\n",
        "- `/content/data/EPWs/base/` → one base TMY EPW file\n",
        "- `/content/data/final/` → output RMY file and event summaries\n",
        "\n",
        "Ensure these folders are mounted or uploaded before running.\n"
      ]
    },
    {
      "cell_type": "markdown",
      "source": [
        "# **0.0 Dependencies**"
      ],
      "metadata": {
        "id": "Qj_szrulAqWA"
      },
      "id": "Qj_szrulAqWA"
    },
    {
      "cell_type": "code",
      "source": [
        "# ✅ Install required libraries (Colab friendly)\n",
        "!pip install pandas numpy matplotlib scikit-learn networkx torch scipy"
      ],
      "metadata": {
        "colab": {
          "base_uri": "https://localhost:8080/"
        },
        "id": "YKg1cNchuelp",
        "outputId": "54ce01fc-8eaf-429d-b648-919d97ae8d29"
      },
      "id": "YKg1cNchuelp",
      "execution_count": 1,
      "outputs": [
        {
          "output_type": "stream",
          "name": "stdout",
          "text": [
            "Requirement already satisfied: pandas in /usr/local/lib/python3.11/dist-packages (2.2.2)\n",
            "Requirement already satisfied: numpy in /usr/local/lib/python3.11/dist-packages (2.0.2)\n",
            "Requirement already satisfied: matplotlib in /usr/local/lib/python3.11/dist-packages (3.10.0)\n",
            "Requirement already satisfied: scikit-learn in /usr/local/lib/python3.11/dist-packages (1.6.1)\n",
            "Requirement already satisfied: networkx in /usr/local/lib/python3.11/dist-packages (3.5)\n",
            "Requirement already satisfied: torch in /usr/local/lib/python3.11/dist-packages (2.6.0+cu124)\n",
            "Requirement already satisfied: scipy in /usr/local/lib/python3.11/dist-packages (1.15.3)\n",
            "Requirement already satisfied: python-dateutil>=2.8.2 in /usr/local/lib/python3.11/dist-packages (from pandas) (2.9.0.post0)\n",
            "Requirement already satisfied: pytz>=2020.1 in /usr/local/lib/python3.11/dist-packages (from pandas) (2025.2)\n",
            "Requirement already satisfied: tzdata>=2022.7 in /usr/local/lib/python3.11/dist-packages (from pandas) (2025.2)\n",
            "Requirement already satisfied: contourpy>=1.0.1 in /usr/local/lib/python3.11/dist-packages (from matplotlib) (1.3.2)\n",
            "Requirement already satisfied: cycler>=0.10 in /usr/local/lib/python3.11/dist-packages (from matplotlib) (0.12.1)\n",
            "Requirement already satisfied: fonttools>=4.22.0 in /usr/local/lib/python3.11/dist-packages (from matplotlib) (4.58.1)\n",
            "Requirement already satisfied: kiwisolver>=1.3.1 in /usr/local/lib/python3.11/dist-packages (from matplotlib) (1.4.8)\n",
            "Requirement already satisfied: packaging>=20.0 in /usr/local/lib/python3.11/dist-packages (from matplotlib) (24.2)\n",
            "Requirement already satisfied: pillow>=8 in /usr/local/lib/python3.11/dist-packages (from matplotlib) (11.2.1)\n",
            "Requirement already satisfied: pyparsing>=2.3.1 in /usr/local/lib/python3.11/dist-packages (from matplotlib) (3.2.3)\n",
            "Requirement already satisfied: joblib>=1.2.0 in /usr/local/lib/python3.11/dist-packages (from scikit-learn) (1.5.1)\n",
            "Requirement already satisfied: threadpoolctl>=3.1.0 in /usr/local/lib/python3.11/dist-packages (from scikit-learn) (3.6.0)\n",
            "Requirement already satisfied: filelock in /usr/local/lib/python3.11/dist-packages (from torch) (3.18.0)\n",
            "Requirement already satisfied: typing-extensions>=4.10.0 in /usr/local/lib/python3.11/dist-packages (from torch) (4.14.0)\n",
            "Requirement already satisfied: jinja2 in /usr/local/lib/python3.11/dist-packages (from torch) (3.1.6)\n",
            "Requirement already satisfied: fsspec in /usr/local/lib/python3.11/dist-packages (from torch) (2025.3.2)\n",
            "Collecting nvidia-cuda-nvrtc-cu12==12.4.127 (from torch)\n",
            "  Downloading nvidia_cuda_nvrtc_cu12-12.4.127-py3-none-manylinux2014_x86_64.whl.metadata (1.5 kB)\n",
            "Collecting nvidia-cuda-runtime-cu12==12.4.127 (from torch)\n",
            "  Downloading nvidia_cuda_runtime_cu12-12.4.127-py3-none-manylinux2014_x86_64.whl.metadata (1.5 kB)\n",
            "Collecting nvidia-cuda-cupti-cu12==12.4.127 (from torch)\n",
            "  Downloading nvidia_cuda_cupti_cu12-12.4.127-py3-none-manylinux2014_x86_64.whl.metadata (1.6 kB)\n",
            "Collecting nvidia-cudnn-cu12==9.1.0.70 (from torch)\n",
            "  Downloading nvidia_cudnn_cu12-9.1.0.70-py3-none-manylinux2014_x86_64.whl.metadata (1.6 kB)\n",
            "Collecting nvidia-cublas-cu12==12.4.5.8 (from torch)\n",
            "  Downloading nvidia_cublas_cu12-12.4.5.8-py3-none-manylinux2014_x86_64.whl.metadata (1.5 kB)\n",
            "Collecting nvidia-cufft-cu12==11.2.1.3 (from torch)\n",
            "  Downloading nvidia_cufft_cu12-11.2.1.3-py3-none-manylinux2014_x86_64.whl.metadata (1.5 kB)\n",
            "Collecting nvidia-curand-cu12==10.3.5.147 (from torch)\n",
            "  Downloading nvidia_curand_cu12-10.3.5.147-py3-none-manylinux2014_x86_64.whl.metadata (1.5 kB)\n",
            "Collecting nvidia-cusolver-cu12==11.6.1.9 (from torch)\n",
            "  Downloading nvidia_cusolver_cu12-11.6.1.9-py3-none-manylinux2014_x86_64.whl.metadata (1.6 kB)\n",
            "Collecting nvidia-cusparse-cu12==12.3.1.170 (from torch)\n",
            "  Downloading nvidia_cusparse_cu12-12.3.1.170-py3-none-manylinux2014_x86_64.whl.metadata (1.6 kB)\n",
            "Requirement already satisfied: nvidia-cusparselt-cu12==0.6.2 in /usr/local/lib/python3.11/dist-packages (from torch) (0.6.2)\n",
            "Requirement already satisfied: nvidia-nccl-cu12==2.21.5 in /usr/local/lib/python3.11/dist-packages (from torch) (2.21.5)\n",
            "Requirement already satisfied: nvidia-nvtx-cu12==12.4.127 in /usr/local/lib/python3.11/dist-packages (from torch) (12.4.127)\n",
            "Collecting nvidia-nvjitlink-cu12==12.4.127 (from torch)\n",
            "  Downloading nvidia_nvjitlink_cu12-12.4.127-py3-none-manylinux2014_x86_64.whl.metadata (1.5 kB)\n",
            "Requirement already satisfied: triton==3.2.0 in /usr/local/lib/python3.11/dist-packages (from torch) (3.2.0)\n",
            "Requirement already satisfied: sympy==1.13.1 in /usr/local/lib/python3.11/dist-packages (from torch) (1.13.1)\n",
            "Requirement already satisfied: mpmath<1.4,>=1.1.0 in /usr/local/lib/python3.11/dist-packages (from sympy==1.13.1->torch) (1.3.0)\n",
            "Requirement already satisfied: six>=1.5 in /usr/local/lib/python3.11/dist-packages (from python-dateutil>=2.8.2->pandas) (1.17.0)\n",
            "Requirement already satisfied: MarkupSafe>=2.0 in /usr/local/lib/python3.11/dist-packages (from jinja2->torch) (3.0.2)\n",
            "Downloading nvidia_cublas_cu12-12.4.5.8-py3-none-manylinux2014_x86_64.whl (363.4 MB)\n",
            "\u001b[2K   \u001b[90m━━━━━━━━━━━━━━━━━━━━━━━━━━━━━━━━━━━━━━━━\u001b[0m \u001b[32m363.4/363.4 MB\u001b[0m \u001b[31m3.7 MB/s\u001b[0m eta \u001b[36m0:00:00\u001b[0m\n",
            "\u001b[?25hDownloading nvidia_cuda_cupti_cu12-12.4.127-py3-none-manylinux2014_x86_64.whl (13.8 MB)\n",
            "\u001b[2K   \u001b[90m━━━━━━━━━━━━━━━━━━━━━━━━━━━━━━━━━━━━━━━━\u001b[0m \u001b[32m13.8/13.8 MB\u001b[0m \u001b[31m53.8 MB/s\u001b[0m eta \u001b[36m0:00:00\u001b[0m\n",
            "\u001b[?25hDownloading nvidia_cuda_nvrtc_cu12-12.4.127-py3-none-manylinux2014_x86_64.whl (24.6 MB)\n",
            "\u001b[2K   \u001b[90m━━━━━━━━━━━━━━━━━━━━━━━━━━━━━━━━━━━━━━━━\u001b[0m \u001b[32m24.6/24.6 MB\u001b[0m \u001b[31m45.9 MB/s\u001b[0m eta \u001b[36m0:00:00\u001b[0m\n",
            "\u001b[?25hDownloading nvidia_cuda_runtime_cu12-12.4.127-py3-none-manylinux2014_x86_64.whl (883 kB)\n",
            "\u001b[2K   \u001b[90m━━━━━━━━━━━━━━━━━━━━━━━━━━━━━━━━━━━━━━━━\u001b[0m \u001b[32m883.7/883.7 kB\u001b[0m \u001b[31m23.8 MB/s\u001b[0m eta \u001b[36m0:00:00\u001b[0m\n",
            "\u001b[?25hDownloading nvidia_cudnn_cu12-9.1.0.70-py3-none-manylinux2014_x86_64.whl (664.8 MB)\n",
            "\u001b[2K   \u001b[90m━━━━━━━━━━━━━━━━━━━━━━━━━━━━━━━━━━━━━━━━\u001b[0m \u001b[32m664.8/664.8 MB\u001b[0m \u001b[31m2.8 MB/s\u001b[0m eta \u001b[36m0:00:00\u001b[0m\n",
            "\u001b[?25hDownloading nvidia_cufft_cu12-11.2.1.3-py3-none-manylinux2014_x86_64.whl (211.5 MB)\n",
            "\u001b[2K   \u001b[90m━━━━━━━━━━━━━━━━━━━━━━━━━━━━━━━━━━━━━━━━\u001b[0m \u001b[32m211.5/211.5 MB\u001b[0m \u001b[31m5.4 MB/s\u001b[0m eta \u001b[36m0:00:00\u001b[0m\n",
            "\u001b[?25hDownloading nvidia_curand_cu12-10.3.5.147-py3-none-manylinux2014_x86_64.whl (56.3 MB)\n",
            "\u001b[2K   \u001b[90m━━━━━━━━━━━━━━━━━━━━━━━━━━━━━━━━━━━━━━━━\u001b[0m \u001b[32m56.3/56.3 MB\u001b[0m \u001b[31m12.2 MB/s\u001b[0m eta \u001b[36m0:00:00\u001b[0m\n",
            "\u001b[?25hDownloading nvidia_cusolver_cu12-11.6.1.9-py3-none-manylinux2014_x86_64.whl (127.9 MB)\n",
            "\u001b[2K   \u001b[90m━━━━━━━━━━━━━━━━━━━━━━━━━━━━━━━━━━━━━━━━\u001b[0m \u001b[32m127.9/127.9 MB\u001b[0m \u001b[31m7.4 MB/s\u001b[0m eta \u001b[36m0:00:00\u001b[0m\n",
            "\u001b[?25hDownloading nvidia_cusparse_cu12-12.3.1.170-py3-none-manylinux2014_x86_64.whl (207.5 MB)\n",
            "\u001b[2K   \u001b[90m━━━━━━━━━━━━━━━━━━━━━━━━━━━━━━━━━━━━━━━━\u001b[0m \u001b[32m207.5/207.5 MB\u001b[0m \u001b[31m5.9 MB/s\u001b[0m eta \u001b[36m0:00:00\u001b[0m\n",
            "\u001b[?25hDownloading nvidia_nvjitlink_cu12-12.4.127-py3-none-manylinux2014_x86_64.whl (21.1 MB)\n",
            "\u001b[2K   \u001b[90m━━━━━━━━━━━━━━━━━━━━━━━━━━━━━━━━━━━━━━━━\u001b[0m \u001b[32m21.1/21.1 MB\u001b[0m \u001b[31m64.6 MB/s\u001b[0m eta \u001b[36m0:00:00\u001b[0m\n",
            "\u001b[?25hInstalling collected packages: nvidia-nvjitlink-cu12, nvidia-curand-cu12, nvidia-cufft-cu12, nvidia-cuda-runtime-cu12, nvidia-cuda-nvrtc-cu12, nvidia-cuda-cupti-cu12, nvidia-cublas-cu12, nvidia-cusparse-cu12, nvidia-cudnn-cu12, nvidia-cusolver-cu12\n",
            "  Attempting uninstall: nvidia-nvjitlink-cu12\n",
            "    Found existing installation: nvidia-nvjitlink-cu12 12.5.82\n",
            "    Uninstalling nvidia-nvjitlink-cu12-12.5.82:\n",
            "      Successfully uninstalled nvidia-nvjitlink-cu12-12.5.82\n",
            "  Attempting uninstall: nvidia-curand-cu12\n",
            "    Found existing installation: nvidia-curand-cu12 10.3.6.82\n",
            "    Uninstalling nvidia-curand-cu12-10.3.6.82:\n",
            "      Successfully uninstalled nvidia-curand-cu12-10.3.6.82\n",
            "  Attempting uninstall: nvidia-cufft-cu12\n",
            "    Found existing installation: nvidia-cufft-cu12 11.2.3.61\n",
            "    Uninstalling nvidia-cufft-cu12-11.2.3.61:\n",
            "      Successfully uninstalled nvidia-cufft-cu12-11.2.3.61\n",
            "  Attempting uninstall: nvidia-cuda-runtime-cu12\n",
            "    Found existing installation: nvidia-cuda-runtime-cu12 12.5.82\n",
            "    Uninstalling nvidia-cuda-runtime-cu12-12.5.82:\n",
            "      Successfully uninstalled nvidia-cuda-runtime-cu12-12.5.82\n",
            "  Attempting uninstall: nvidia-cuda-nvrtc-cu12\n",
            "    Found existing installation: nvidia-cuda-nvrtc-cu12 12.5.82\n",
            "    Uninstalling nvidia-cuda-nvrtc-cu12-12.5.82:\n",
            "      Successfully uninstalled nvidia-cuda-nvrtc-cu12-12.5.82\n",
            "  Attempting uninstall: nvidia-cuda-cupti-cu12\n",
            "    Found existing installation: nvidia-cuda-cupti-cu12 12.5.82\n",
            "    Uninstalling nvidia-cuda-cupti-cu12-12.5.82:\n",
            "      Successfully uninstalled nvidia-cuda-cupti-cu12-12.5.82\n",
            "  Attempting uninstall: nvidia-cublas-cu12\n",
            "    Found existing installation: nvidia-cublas-cu12 12.5.3.2\n",
            "    Uninstalling nvidia-cublas-cu12-12.5.3.2:\n",
            "      Successfully uninstalled nvidia-cublas-cu12-12.5.3.2\n",
            "  Attempting uninstall: nvidia-cusparse-cu12\n",
            "    Found existing installation: nvidia-cusparse-cu12 12.5.1.3\n",
            "    Uninstalling nvidia-cusparse-cu12-12.5.1.3:\n",
            "      Successfully uninstalled nvidia-cusparse-cu12-12.5.1.3\n",
            "  Attempting uninstall: nvidia-cudnn-cu12\n",
            "    Found existing installation: nvidia-cudnn-cu12 9.3.0.75\n",
            "    Uninstalling nvidia-cudnn-cu12-9.3.0.75:\n",
            "      Successfully uninstalled nvidia-cudnn-cu12-9.3.0.75\n",
            "  Attempting uninstall: nvidia-cusolver-cu12\n",
            "    Found existing installation: nvidia-cusolver-cu12 11.6.3.83\n",
            "    Uninstalling nvidia-cusolver-cu12-11.6.3.83:\n",
            "      Successfully uninstalled nvidia-cusolver-cu12-11.6.3.83\n",
            "Successfully installed nvidia-cublas-cu12-12.4.5.8 nvidia-cuda-cupti-cu12-12.4.127 nvidia-cuda-nvrtc-cu12-12.4.127 nvidia-cuda-runtime-cu12-12.4.127 nvidia-cudnn-cu12-9.1.0.70 nvidia-cufft-cu12-11.2.1.3 nvidia-curand-cu12-10.3.5.147 nvidia-cusolver-cu12-11.6.1.9 nvidia-cusparse-cu12-12.3.1.170 nvidia-nvjitlink-cu12-12.4.127\n"
          ]
        }
      ]
    },
    {
      "cell_type": "markdown",
      "source": [
        "# **1.0 Clone Repo + Set folders**"
      ],
      "metadata": {
        "id": "PJeVI5DiAvQB"
      },
      "id": "PJeVI5DiAvQB"
    },
    {
      "cell_type": "code",
      "source": [
        "# 📦 Clone the RMY GitHub repository and move into it\n",
        "%cd /content\n",
        "!rm -rf RMY  # Remove any existing folder to avoid nesting\n",
        "!git clone https://github.com/Nadatarkhan/RMY.git\n",
        "%cd RMY"
      ],
      "metadata": {
        "colab": {
          "base_uri": "https://localhost:8080/"
        },
        "id": "iJFJMhbvu19X",
        "outputId": "c3ba7f8a-0ccf-46fc-9c1e-5f2117f4c8cf"
      },
      "id": "iJFJMhbvu19X",
      "execution_count": 2,
      "outputs": [
        {
          "output_type": "stream",
          "name": "stdout",
          "text": [
            "/content\n",
            "Cloning into 'RMY'...\n",
            "remote: Enumerating objects: 280, done.\u001b[K\n",
            "remote: Counting objects: 100% (41/41), done.\u001b[K\n",
            "remote: Compressing objects: 100% (27/27), done.\u001b[K\n",
            "remote: Total 280 (delta 26), reused 29 (delta 14), pack-reused 239 (from 1)\u001b[K\n",
            "Receiving objects: 100% (280/280), 4.42 MiB | 11.41 MiB/s, done.\n",
            "Resolving deltas: 100% (175/175), done.\n",
            "/content/RMY\n"
          ]
        }
      ]
    },
    {
      "cell_type": "code",
      "source": [
        "import os\n",
        "\n",
        "# Define required folders\n",
        "required_dirs = [\n",
        "    \"/content/EPWs\",         # Annual EPWs\n",
        "    \"/content/base\",         # Base TMY EPW\n",
        "    \"/content/hotspells\",    # Output: heatwave events/stats\n",
        "    \"/content/coldspells\",   # Output: coldspell events/stats\n",
        "    \"/content/final\"         # Final RMY file\n",
        "]\n",
        "\n",
        "# Create them if they don't exist\n",
        "for d in required_dirs:\n",
        "    os.makedirs(d, exist_ok=True)\n"
      ],
      "metadata": {
        "id": "NvMznhhTvElJ"
      },
      "id": "NvMznhhTvElJ",
      "execution_count": 5,
      "outputs": []
    },
    {
      "cell_type": "code",
      "source": [
        "import shutil\n",
        "\n",
        "# Copy all .epw files from data/EPWs → /content/EPWs\n",
        "shutil.copytree(\"/content/RMY/data/EPWs\", \"/content/EPWs\", dirs_exist_ok=True)\n",
        "\n",
        "# Copy base TMY file from data/base → /content/base\n",
        "shutil.copytree(\"/content/RMY/data/base\", \"/content/base\", dirs_exist_ok=True)\n"
      ],
      "metadata": {
        "colab": {
          "base_uri": "https://localhost:8080/",
          "height": 36
        },
        "id": "Q7b47qFy4mRD",
        "outputId": "4591a3a5-2551-4780-d733-9455164d8e9c"
      },
      "id": "Q7b47qFy4mRD",
      "execution_count": 4,
      "outputs": [
        {
          "output_type": "execute_result",
          "data": {
            "text/plain": [
              "'/content/base'"
            ],
            "application/vnd.google.colaboratory.intrinsic+json": {
              "type": "string"
            }
          },
          "metadata": {},
          "execution_count": 4
        }
      ]
    },
    {
      "cell_type": "markdown",
      "source": [
        "# **2.0 Run RMY Method**"
      ],
      "metadata": {
        "id": "biFCeaHZA4SP"
      },
      "id": "biFCeaHZA4SP"
    },
    {
      "cell_type": "code",
      "execution_count": 6,
      "id": "fb576a03",
      "metadata": {
        "colab": {
          "base_uri": "https://localhost:8080/"
        },
        "id": "fb576a03",
        "outputId": "65faa255-0e14-4aeb-aca8-1499548e95ab"
      },
      "outputs": [
        {
          "output_type": "stream",
          "name": "stdout",
          "text": [
            " Starting hybrid method on EPWs in /content/EPWs\n",
            " Processing file: /content/EPWs/Boston__MA__USA_2009.epw\n",
            " Processing file: /content/EPWs/Boston__MA__USA_2010.epw\n",
            " Processing file: /content/EPWs/Boston__MA__USA_2011.epw\n",
            " Processing file: /content/EPWs/Boston__MA__USA_2012.epw\n",
            " Processing file: /content/EPWs/Boston__MA__USA_2013.epw\n",
            " Processing file: /content/EPWs/Boston__MA__USA_2014.epw\n",
            " Processing file: /content/EPWs/Boston__MA__USA_2015.epw\n",
            " Processing file: /content/EPWs/Boston__MA__USA_2016.epw\n",
            " Processing file: /content/EPWs/Boston__MA__USA_2017.epw\n",
            " Processing file: /content/EPWs/Boston__MA__USA_2018.epw\n",
            " Processing file: /content/EPWs/Boston__MA__USA_2019.epw\n",
            " Processing file: /content/EPWs/Boston__MA__USA_2020.epw\n",
            " Processing file: /content/EPWs/Boston__MA__USA_2021.epw\n",
            " Processing file: /content/EPWs/Boston__MA__USA_2022.epw\n",
            " Processing file: /content/EPWs/Boston__MA__USA_2023.epw\n",
            "\n",
            "📈 Severity scores across all years:\n",
            "   - Year 2009: Severity = 678.00\n",
            "   - Year 2010: Severity = 706.80\n",
            "   - Year 2011: Severity = 933.60\n",
            "   - Year 2012: Severity = 569.60\n",
            "   - Year 2013: Severity = 967.20\n",
            "   - Year 2014: Severity = 765.90\n",
            "   - Year 2015: Severity = 550.40\n",
            "   - Year 2016: Severity = 685.90\n",
            "   - Year 2017: Severity = 595.00\n",
            "   - Year 2018: Severity = 613.70\n",
            "   - Year 2019: Severity = 469.30\n",
            "   - Year 2020: Severity = 735.00\n",
            "   - Year 2021: Severity = 917.50\n",
            "   - Year 2022: Severity = 1153.20\n",
            "   - Year 2023: Severity = 656.00\n",
            "\n",
            " Ensemble method run complete.\n",
            " Peak severity year identified: 2022\n",
            "\n",
            " Event Stats for Peak Year:\n",
            "   - hwn: 8.00\n",
            "   - hwf: 31.00\n",
            "   - hwd: 7.00\n",
            "   - hwdm: 3.88\n",
            "   - hwaa: 37.20\n",
            "   - severity: 1153.20\n",
            "\n",
            "✅ Saved all 6 heat wave output CSVs\n",
            " Starting cold spell detection on EPWs in /content/EPWs\n",
            " Processing base EPW file: /content/base/USA_MA_Boston-Logan.Intl.AP.725090_TMYx.2009-2023.epw\n",
            " Processing file: /content/EPWs/Boston__MA__USA_2009.epw\n",
            " Processing file: /content/EPWs/Boston__MA__USA_2010.epw\n",
            " Processing file: /content/EPWs/Boston__MA__USA_2011.epw\n",
            " Processing file: /content/EPWs/Boston__MA__USA_2012.epw\n",
            " Processing file: /content/EPWs/Boston__MA__USA_2013.epw\n",
            " Processing file: /content/EPWs/Boston__MA__USA_2014.epw\n",
            " Processing file: /content/EPWs/Boston__MA__USA_2015.epw\n",
            " Processing file: /content/EPWs/Boston__MA__USA_2016.epw\n",
            " Processing file: /content/EPWs/Boston__MA__USA_2017.epw\n",
            " Processing file: /content/EPWs/Boston__MA__USA_2018.epw\n",
            " Processing file: /content/EPWs/Boston__MA__USA_2019.epw\n",
            " Processing file: /content/EPWs/Boston__MA__USA_2020.epw\n",
            " Processing file: /content/EPWs/Boston__MA__USA_2021.epw\n",
            " Processing file: /content/EPWs/Boston__MA__USA_2022.epw\n",
            " Processing file: /content/EPWs/Boston__MA__USA_2023.epw\n",
            "\n",
            " Severity scores across all years:\n",
            "   - Year 2009: Severity = -633.60\n",
            "   - Year 2010: Severity = -604.80\n",
            "   - Year 2011: Severity = -718.20\n",
            "   - Year 2012: Severity = -288.00\n",
            "   - Year 2013: Severity = -436.80\n",
            "   - Year 2014: Severity = -442.00\n",
            "   - Year 2015: Severity = -620.80\n",
            "   - Year 2016: Severity = -934.80\n",
            "   - Year 2017: Severity = -718.10\n",
            "   - Year 2018: Severity = -415.80\n",
            "   - Year 2019: Severity = -540.00\n",
            "   - Year 2020: Severity = -290.00\n",
            "   - Year 2021: Severity = -472.60\n",
            "   - Year 2022: Severity = -436.80\n",
            "   - Year 2023: Severity = -782.00\n",
            "\n",
            " Ensemble method run complete.\n",
            " Peak severity year identified: 2016\n",
            "\n",
            " Event Stats for Peak Year:\n",
            "   - cwn: 9.00\n",
            "   - cwf: 41.00\n",
            "   - cwd: 8.00\n",
            "   - cwdm: 4.53\n",
            "   - cwaa: -22.80\n",
            "   - severity: -934.80\n",
            "\n",
            "✅ Saved all 6 cold spell output CSVs.\n"
          ]
        }
      ],
      "source": [
        "# ✅ Import main RMY pipeline\n",
        "from rmy import run_full_rmy_pipeline"
      ]
    },
    {
      "cell_type": "code",
      "execution_count": 7,
      "id": "3be8db45",
      "metadata": {
        "colab": {
          "base_uri": "https://localhost:8080/"
        },
        "id": "3be8db45",
        "outputId": "4796cdaa-6aee-4a32-819f-03ed7edccf56"
      },
      "outputs": [
        {
          "output_type": "stream",
          "name": "stdout",
          "text": [
            "🔄 Constructing final RMY EPW...\n",
            "✅ RMY file saved to: /content/final/RMY_USA_MA_Boston-Logan.Intl.AP.725090_TMYx.2009-2023.epw\n"
          ]
        }
      ],
      "source": [
        "from rmy.rmy_generation import construct_final_rmy\n",
        "import os\n",
        "\n",
        "# Dynamically locate required input files\n",
        "base_epw_path = [f for f in os.listdir(\"/content/base\") if f.endswith(\".epw\")][0]\n",
        "hot_events_path = \"/content/hotspells/heatwave_events_peak.csv\"\n",
        "cold_events_path = \"/content/coldspells/coldspells_events_peak.csv\"\n",
        "output_path = f\"/content/final/RMY_{base_epw_path}\"\n",
        "\n",
        "# Run the RMY construction using previously saved detection outputs\n",
        "construct_final_rmy(\n",
        "    base_epw_path=f\"/content/base/{base_epw_path}\",\n",
        "    hot_events_path=hot_events_path,\n",
        "    cold_events_path=cold_events_path,\n",
        "    output_path=output_path\n",
        ")"
      ]
    }
  ],
  "metadata": {
    "colab": {
      "provenance": []
    },
    "language_info": {
      "name": "python"
    },
    "kernelspec": {
      "name": "python3",
      "display_name": "Python 3"
    }
  },
  "nbformat": 4,
  "nbformat_minor": 5
}