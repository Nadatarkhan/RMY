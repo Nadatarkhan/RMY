{
 "cells": [
  {
   "cell_type": "markdown",
   "id": "956b8866",
   "metadata": {},
   "source": [
    "# 🌡️ RMY Generation on Google Colab\n",
    "\n",
    "This notebook demonstrates how to generate a Representative Meteorological Year (RMY) file with embedded extreme climate events (heatwaves and cold spells) using the `rmy` package.\n",
    "\n",
    "### 📁 Folder structure:\n",
    "- `/content/data/EPWs/epws/` → all AMY EPW files\n",
    "- `/content/data/EPWs/base/` → one base TMY EPW file\n",
    "- `/content/data/final/` → output RMY file and event summaries\n",
    "\n",
    "Ensure these folders are mounted or uploaded before running.\n"
   ]
  },
  {
   "cell_type": "code",
   "execution_count": null,
   "id": "98a1e831",
   "metadata": {},
   "outputs": [],
   "source": [
    "# ✅ Install dependencies (if running locally)\n",
    "# !pip install -r requirements.txt"
   ]
  },
  {
   "cell_type": "code",
   "execution_count": null,
   "id": "fb576a03",
   "metadata": {},
   "outputs": [],
   "source": [
    "# ✅ Import main RMY pipeline\n",
    "from rmy import run_full_rmy_pipeline"
   ]
  },
  {
   "cell_type": "code",
   "execution_count": null,
   "id": "3be8db45",
   "metadata": {},
   "outputs": [],
   "source": [
    "# ✅ Define your paths (adjust if needed)\n",
    "epw_dir = '/content/data/EPWs/epws'\n",
    "base_dir = '/content/data/EPWs/base'\n",
    "output_dir = '/content/data/final'"
   ]
  },
  {
   "cell_type": "code",
   "execution_count": null,
   "id": "f18ab90f",
   "metadata": {},
   "outputs": [],
   "source": [
    "# ✅ Run the full pipeline\n",
    "run_full_rmy_pipeline(epw_dir, base_dir, output_dir)"
   ]
  },
  {
   "cell_type": "code",
   "execution_count": null,
   "id": "80643af9",
   "metadata": {},
   "outputs": [],
   "source": [
    "# ✅ List output files\n",
    "import os\n",
    "os.listdir(output_dir)"
   ]
  }
 ],
 "metadata": {},
 "nbformat": 4,
 "nbformat_minor": 5
}
