{
 "cells": [
  {
   "cell_type": "code",
   "execution_count": null,
   "id": "d4c5b3cd",
   "metadata": {},
   "outputs": [],
   "source": [
    "\n",
    "# 🛠️ Install required packages\n",
    "!pip install pandas numpy scipy matplotlib plotly torch torchvision torch-geometric ladybug-core ladybug-pandas\n"
   ]
  },
  {
   "cell_type": "code",
   "execution_count": null,
   "id": "a4a2c123",
   "metadata": {},
   "outputs": [],
   "source": [
    "\n",
    "# 📦 Clone the RMY GitHub repository\n",
    "!git clone https://github.com/Nadatarkhan/RMY.git\n",
    "%cd RMY\n"
   ]
  },
  {
   "cell_type": "code",
   "execution_count": null,
   "id": "b4814c6a",
   "metadata": {},
   "outputs": [],
   "source": [
    "\n",
    "# 📁 Define EPW and output folders\n",
    "epw_dir = \"EPWs/amys\"     # Folder with AMY EPWs\n",
    "base_dir = \"EPWs/base\"    # Folder with the base TMY\n",
    "output_dir = \"EPWs/final\" # Final output directory for the RMY\n",
    "\n",
    "# 🔁 Import the main pipeline function\n",
    "from rmy.rmy_generation import run_full_rmy_pipeline\n"
   ]
  },
  {
   "cell_type": "code",
   "execution_count": null,
   "id": "d979f2aa",
   "metadata": {},
   "outputs": [],
   "source": [
    "\n",
    "# ▶️ Run the full RMY generation pipeline\n",
    "run_full_rmy_pipeline(epw_dir, base_dir, output_dir)\n"
   ]
  }
 ],
 "metadata": {},
 "nbformat": 4,
 "nbformat_minor": 5
}