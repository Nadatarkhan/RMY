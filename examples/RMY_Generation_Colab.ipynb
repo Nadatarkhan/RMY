{
 "cells": [
  {
   "cell_type": "code",
   "execution_count": null,
   "id": "74906f73",
   "metadata": {},
   "outputs": [],
   "source": [
    "\n",
    "# 🛠️ Install required packages\n",
    "!pip install pandas numpy scipy matplotlib plotly torch torchvision torch-geometric ladybug-core ladybug-pandas\n"
   ]
  },
  {
   "cell_type": "code",
   "execution_count": null,
   "id": "f8264dd9",
   "metadata": {},
   "outputs": [],
   "source": [
    "\n",
    "# 📦 Clone the RMY GitHub repository and move into it\n",
    "!git clone https://github.com/Nadatarkhan/RMY.git\n",
    "%cd RMY\n"
   ]
  },
  {
   "cell_type": "code",
   "execution_count": null,
   "id": "647f3082",
   "metadata": {},
   "outputs": [],
   "source": [
    "\n",
    "# ✅ Run full RMY pipeline (heatwaves + coldspells)\n",
    "from rmy.rmy_generation import run_full_rmy_pipeline\n",
    "\n",
    "# All folders already exist due to repo structure\n",
    "run_full_rmy_pipeline(\"data/EPWs\", \"data/base\", \"data/final\")\n"
   ]
  }
 ],
 "metadata": {},
 "nbformat": 4,
 "nbformat_minor": 5
}
