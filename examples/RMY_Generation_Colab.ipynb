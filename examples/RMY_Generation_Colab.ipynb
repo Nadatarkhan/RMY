{
 "cells": [
  {
   "cell_type": "code",
   "execution_count": null,
   "id": "74906f73",
   "metadata": {},
   "outputs": [],
   "source": [
    "\n",
    "# 🛠️ Install required packages\n",
    "!pip install pandas numpy scipy matplotlib plotly torch torchvision torch-geometric ladybug-core ladybug-pandas\n"
   ]
  },
  {
   "cell_type": "code",
   "execution_count": null,
   "id": "f8264dd9",
   "metadata": {},
   "outputs": [],
   "source": [
    "\n",
    "# 📦 Clone the RMY GitHub repository and move into it\n",
    "!git clone https://github.com/Nadatarkhan/RMY.git\n",
    "%cd RMY\n"
   ]
  },
  {
   "cell_type": "code",
   "execution_count": null,
   "id": "7951d276",
   "metadata": {},
   "outputs": [],
   "source": [
    "\n",
    "# 📁 Define EPW and output folders relative to cloned repo\n",
    "epw_dir = \"data/EPWs\"\n",
    "base_dir = \"data/base\"\n",
    "output_dir = \"data/final\"\n",
    "\n",
    "# 🔁 Import the main pipeline function\n",
    "from rmy.rmy_generation import run_full_rmy_pipeline\n"
   ]
  },
  {
   "cell_type": "code",
   "execution_count": null,
   "id": "129a4bfc",
   "metadata": {},
   "outputs": [],
   "source": [
    "\n",
    "# ▶️ Generate the Representative Meteorological Year\n",
    "run_full_rmy_pipeline(epw_dir, base_dir, output_dir)\n"
   ]
  }
 ],
 "metadata": {},
 "nbformat": 4,
 "nbformat_minor": 5
}